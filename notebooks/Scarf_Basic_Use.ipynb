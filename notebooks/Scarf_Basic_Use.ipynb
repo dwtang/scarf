{
 "cells": [
  {
   "cell_type": "markdown",
   "metadata": {},
   "source": [
    "# Basic Use of Scarf Library"
   ]
  },
  {
   "cell_type": "code",
   "execution_count": 1,
   "metadata": {},
   "outputs": [],
   "source": [
    "import os\n",
    "import sys\n",
    "sys.path.insert(0, os.path.abspath('..'))\n",
    "\n",
    "import numpy as np\n",
    "import scarf\n",
    "from scarf import utils"
   ]
  },
  {
   "cell_type": "markdown",
   "metadata": {},
   "source": [
    "### Generate Random Instance"
   ]
  },
  {
   "cell_type": "code",
   "execution_count": 2,
   "metadata": {},
   "outputs": [],
   "source": [
    "S = scarf.gen_random_instance(num_single=0, num_couple=200, num_hospital=20)"
   ]
  },
  {
   "cell_type": "markdown",
   "metadata": {},
   "source": [
    "### Save Instance "
   ]
  },
  {
   "cell_type": "code",
   "execution_count": 55,
   "metadata": {},
   "outputs": [],
   "source": [
    "scarf.save_pickle(S, os.path.join(\"..\", \"data\", \"large_example.pickle\"))"
   ]
  },
  {
   "cell_type": "markdown",
   "metadata": {},
   "source": [
    "### Load External Instance from JSON "
   ]
  },
  {
   "cell_type": "code",
   "execution_count": 56,
   "metadata": {},
   "outputs": [],
   "source": [
    "S = scarf.load_json(os.path.join(\"..\", \"data\", \"example.json\"))"
   ]
  },
  {
   "cell_type": "markdown",
   "metadata": {},
   "source": [
    "### Solve the Instance"
   ]
  },
  {
   "cell_type": "code",
   "execution_count": 3,
   "metadata": {},
   "outputs": [
    {
     "name": "stdout",
     "output_type": "stream",
     "text": [
      "current pivot step: #0\n",
      "current pivot step: #200\n",
      "current pivot step: #400\n",
      "current pivot step: #600\n",
      "current pivot step: #800\n",
      "current pivot step: #1000\n",
      "Pivoted for 1119 steps in 17.133s.\n",
      "Avg cardinal Pivot: 11.058ms.\n",
      "Avg Ordinal Pivot: 4.018ms.\n",
      "Wall time: 17.3 s\n"
     ]
    }
   ],
   "source": [
    "%time sol = scarf.solve(S, verbose=True)"
   ]
  },
  {
   "cell_type": "code",
   "execution_count": 4,
   "metadata": {},
   "outputs": [
    {
     "name": "stdout",
     "output_type": "stream",
     "text": [
      "Solution IS feasible.\n",
      "Solution IS stable.\n"
     ]
    }
   ],
   "source": [
    "print(\"Solution {0} feasible.\".format(\"IS\" if utils.check_feasible(S.full_A(), sol.basis, S.full_b()) else \"is NOT\"))\n",
    "print(\"Solution {0} stable.\".format(\"IS\" if utils.check_stable(S.full_U(), sol.basis) else \"is NOT\"))"
   ]
  },
  {
   "cell_type": "code",
   "execution_count": 5,
   "metadata": {},
   "outputs": [
    {
     "data": {
      "text/plain": [
       "[{(5, 18): 1.0}, {(14, 12): 1.0}]"
      ]
     },
     "execution_count": 5,
     "metadata": {},
     "output_type": "execute_result"
    }
   ],
   "source": [
    "[sol[\"c{0}\".format(c)] for c in range(2)]"
   ]
  },
  {
   "cell_type": "code",
   "execution_count": 6,
   "metadata": {},
   "outputs": [
    {
     "data": {
      "text/plain": [
       "2.4621963500976562"
      ]
     },
     "execution_count": 6,
     "metadata": {},
     "output_type": "execute_result"
    }
   ],
   "source": [
    "import pickle\n",
    "\n",
    "len(pickle.dumps(sol)) / 1024 / 1024 * 100"
   ]
  }
 ],
 "metadata": {
  "kernelspec": {
   "display_name": "Python 3",
   "language": "python",
   "name": "python3"
  },
  "language_info": {
   "codemirror_mode": {
    "name": "ipython",
    "version": 3
   },
   "file_extension": ".py",
   "mimetype": "text/x-python",
   "name": "python",
   "nbconvert_exporter": "python",
   "pygments_lexer": "ipython3",
   "version": "3.7.3"
  }
 },
 "nbformat": 4,
 "nbformat_minor": 2
}
